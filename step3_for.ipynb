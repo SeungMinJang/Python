{
 "cells": [
  {
   "cell_type": "markdown",
   "metadata": {},
   "source": [
    "# 단계별 문제풀이 : 3단계 - for문"
   ]
  },
  {
   "cell_type": "code",
   "execution_count": 1,
   "metadata": {},
   "outputs": [
    {
     "name": "stdin",
     "output_type": "stream",
     "text": [
      " 2\n"
     ]
    },
    {
     "name": "stdout",
     "output_type": "stream",
     "text": [
      "2 * 1 = 2\n",
      "2 * 2 = 4\n",
      "2 * 3 = 6\n",
      "2 * 4 = 8\n",
      "2 * 5 = 10\n",
      "2 * 6 = 12\n",
      "2 * 7 = 14\n",
      "2 * 8 = 16\n",
      "2 * 9 = 18\n"
     ]
    }
   ],
   "source": [
    "# 1번\n",
    "number = int(input())\n",
    "\n",
    "for i in range(9):\n",
    "    print(\"%d * %d = %d\" %(number,i+1, number*(i+1)))"
   ]
  },
  {
   "cell_type": "code",
   "execution_count": null,
   "metadata": {},
   "outputs": [],
   "source": [
    "# 2번\n",
    "number = int(input())\n",
    "\n",
    "result = 0\n",
    "for i in range(number):\n",
    "    result += i+1\n",
    "    \n",
    "print(result)"
   ]
  },
  {
   "cell_type": "code",
   "execution_count": null,
   "metadata": {},
   "outputs": [],
   "source": [
    "# 3번\n",
    "T  = int(input())\n",
    "\n",
    "for i in range(T):\n",
    "    data = input().split(' ')\n",
    "    A = int(data[0])\n",
    "    B = int(data[1])\n",
    "    print(\"%d\" %(A+B))"
   ]
  },
  {
   "cell_type": "code",
   "execution_count": 7,
   "metadata": {},
   "outputs": [],
   "source": [
    "# 4번\n",
    "import sys\n",
    "  \n",
    "T = sys.stdin.readline()\n",
    "\n",
    "for i in range(int(T)):\n",
    "    num = sys.stdin.readline().split()\n",
    "    print(int(num[0]) + int(num[1]))\n",
    "\n",
    "\n"
   ]
  },
  {
   "cell_type": "code",
   "execution_count": 2,
   "metadata": {},
   "outputs": [
    {
     "name": "stdin",
     "output_type": "stream",
     "text": [
      " 5\n"
     ]
    },
    {
     "name": "stdout",
     "output_type": "stream",
     "text": [
      "1\n",
      "2\n",
      "3\n",
      "4\n",
      "5\n"
     ]
    }
   ],
   "source": [
    "# 5번\n",
    "T = int(input())\n",
    "\n",
    "for i in range(T):\n",
    "    print(i+1)"
   ]
  },
  {
   "cell_type": "code",
   "execution_count": null,
   "metadata": {},
   "outputs": [],
   "source": [
    "# 6번\n",
    "T = int(input())\n",
    "\n",
    "for i in range(T):\n",
    "    print(T-i)"
   ]
  },
  {
   "cell_type": "code",
   "execution_count": null,
   "metadata": {},
   "outputs": [],
   "source": [
    "# 7번\n",
    "T = input()\n",
    "T = int(T)\n",
    "\n",
    "for i in range(T):\n",
    "    input_data = input().split(' ')\n",
    "    A = int(input_data[0])\n",
    "    B = int(input_data[1])\n",
    "    result = A+B\n",
    "    \n",
    "    print(\"Case #%d: %d\" %(i+1, result) )"
   ]
  },
  {
   "cell_type": "code",
   "execution_count": null,
   "metadata": {},
   "outputs": [],
   "source": [
    "# 8번\n",
    "T = input()\n",
    "T = int(T)\n",
    "\n",
    "for i in range(T):\n",
    "    input_data = input().split(' ')\n",
    "    A = int(input_data[0])\n",
    "    B = int(input_data[1])\n",
    "    result = A+B\n",
    "    \n",
    "    print(\"Case #%d: %d + %d = %d\" %(i+1, A, B, result) )"
   ]
  },
  {
   "cell_type": "code",
   "execution_count": null,
   "metadata": {},
   "outputs": [],
   "source": [
    "# 9번\n",
    "N = input()\n",
    "N = int(N)\n",
    "for i in range(N):\n",
    "    result = \"*\"*(i+1)\n",
    "    print(result)\n"
   ]
  },
  {
   "cell_type": "code",
   "execution_count": null,
   "metadata": {},
   "outputs": [],
   "source": [
    "# 10번\n",
    "N = input()\n",
    "N = int(N)\n",
    "for i in range(N):\n",
    "    result1 = \" \"*(N-(i+1))\n",
    "    result2 = \"*\"*(i+1)\n",
    "    result = result1+result2\n",
    "    \n",
    "    print(result)\n"
   ]
  },
  {
   "cell_type": "code",
   "execution_count": null,
   "metadata": {},
   "outputs": [],
   "source": [
    "# 11번\n",
    "N, X = map(int, input().split())\n",
    "A = list(map(int, input().split()))\n",
    "\n",
    "for a in A:\n",
    "    if a < X:\n",
    "        print(a, end=\" \")"
   ]
  }
 ],
 "metadata": {
  "kernelspec": {
   "display_name": "Python 3",
   "language": "python",
   "name": "python3"
  },
  "language_info": {
   "codemirror_mode": {
    "name": "ipython",
    "version": 3
   },
   "file_extension": ".py",
   "mimetype": "text/x-python",
   "name": "python",
   "nbconvert_exporter": "python",
   "pygments_lexer": "ipython3",
   "version": "3.7.3"
  }
 },
 "nbformat": 4,
 "nbformat_minor": 2
}
