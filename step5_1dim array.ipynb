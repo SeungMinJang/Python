{
 "cells": [
  {
   "cell_type": "markdown",
   "metadata": {},
   "source": [
    "# 단계별 문제풀이 : 4단계 - while문"
   ]
  },
  {
   "cell_type": "code",
   "execution_count": null,
   "metadata": {},
   "outputs": [],
   "source": [
    "# 1번\n",
    "N = map(int, input())\n",
    "Problem = list(map(int, input().split(' ')))\n",
    "print(\"%d %d\" %(min(Problem), max(Problem)))"
   ]
  },
  {
   "cell_type": "code",
   "execution_count": null,
   "metadata": {},
   "outputs": [],
   "source": [
    "# 2번\n",
    "data_list = []\n",
    "for i in range(9):\n",
    "    data = input()\n",
    "    data_list.append(int(data))\n",
    "# 입력 받기\n",
    "\n",
    "for i in range(9):\n",
    "    if data_list[i] == max(data_list):\n",
    "        print(\"%d\\n%d\" %(data_list[i], i+1))"
   ]
  },
  {
   "cell_type": "code",
   "execution_count": null,
   "metadata": {},
   "outputs": [],
   "source": [
    "# 3번\n",
    "note = list(map(int, input().split(' ')))\n",
    "ascending = [1,2,3,4,5,6,7,8]\n",
    "descending = [8,7,6,5,4,3,2,1]\n",
    "\n",
    "if note == ascending:\n",
    "    print(\"ascending\")\n",
    "elif note == descending:\n",
    "    print(\"descending\")\n",
    "else:\n",
    "    print(\"mixed\")\n"
   ]
  },
  {
   "cell_type": "code",
   "execution_count": null,
   "metadata": {},
   "outputs": [],
   "source": [
    "# 4번\n",
    "A = input()\n",
    "B = input()\n",
    "C = input()\n",
    "result = int(A)*int(B)*int(C)\n",
    "output = [0,0,0,0,0,0,0,0,0,0]\n",
    "\n",
    "while True:\n",
    "    if result//10 == 0:\n",
    "        output[result%10] += 1\n",
    "        break\n",
    "    else:\n",
    "        output[result%10] += 1\n",
    "        result = result//10\n",
    "for i in output:\n",
    "    print(\"%d\" %(i))"
   ]
  },
  {
   "cell_type": "code",
   "execution_count": null,
   "metadata": {},
   "outputs": [],
   "source": [
    "# 5번\n",
    "num_list = []\n",
    "\n",
    "for i in range(10):\n",
    "    num = int(input())\n",
    "    num_list.append(num%42)\n",
    "\n",
    "num_list = set(num_list)\n",
    "print(len(num_list))"
   ]
  },
  {
   "cell_type": "code",
   "execution_count": null,
   "metadata": {},
   "outputs": [],
   "source": [
    "# 6번\n",
    "N = int(input())\n",
    "score_list = list(map(int, input().split(' ')))\n",
    "M = max(score_list)\n",
    "\n",
    "for i in range(N):\n",
    "    score_list[i] = score_list[i]/M*100\n",
    "    \n",
    "print(\"%f\" %(sum(score_list)/len(score_list)))"
   ]
  },
  {
   "cell_type": "code",
   "execution_count": null,
   "metadata": {},
   "outputs": [],
   "source": [
    "# 7번\n",
    "N = int(input())\n",
    "score_list = []\n",
    "\n",
    "for i in range(N):\n",
    "    score=0\n",
    "    count=0\n",
    "    OX_LIST = list(map(str, input()))\n",
    "    for j in OX_LIST:\n",
    "        if j == 'O':\n",
    "            count +=1\n",
    "            score += count\n",
    "        if j == 'X':\n",
    "            \n",
    "            count = 0\n",
    "\n",
    "    score_list.append(score)\n",
    "    \n",
    "for s in score_list:\n",
    "    print(s)"
   ]
  },
  {
   "cell_type": "code",
   "execution_count": null,
   "metadata": {},
   "outputs": [],
   "source": [
    "# 8번\n"
   ]
  }
 ],
 "metadata": {
  "kernelspec": {
   "display_name": "Python 3",
   "language": "python",
   "name": "python3"
  },
  "language_info": {
   "codemirror_mode": {
    "name": "ipython",
    "version": 3
   },
   "file_extension": ".py",
   "mimetype": "text/x-python",
   "name": "python",
   "nbconvert_exporter": "python",
   "pygments_lexer": "ipython3",
   "version": "3.7.3"
  }
 },
 "nbformat": 4,
 "nbformat_minor": 2
}
