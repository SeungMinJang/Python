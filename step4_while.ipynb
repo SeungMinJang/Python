{
 "cells": [
  {
   "cell_type": "markdown",
   "metadata": {},
   "source": [
    "# 단계별 문제풀이 : 4단계 - while문"
   ]
  },
  {
   "cell_type": "code",
   "execution_count": null,
   "metadata": {},
   "outputs": [],
   "source": [
    "# 1번\n",
    "while True:\n",
    "    try:\n",
    "        A, B = map(int, input().split(' '))\n",
    "        result = A+B\n",
    "        print(result)\n",
    "    except:\n",
    "        break"
   ]
  },
  {
   "cell_type": "code",
   "execution_count": null,
   "metadata": {},
   "outputs": [],
   "source": [
    "# 2번\n",
    "Origin = input()\n",
    "count = 0 \n",
    "N = int(Origin)\n",
    "while True:\n",
    "    count+=1\n",
    "    left, right = N//10, N%10\n",
    "    new = right*10 + (left+right)%10\n",
    "\n",
    "    if new == int(Origin):\n",
    "        print(count)\n",
    "        break\n",
    "    else:\n",
    "        N = new"
   ]
  },
  {
   "cell_type": "code",
   "execution_count": null,
   "metadata": {},
   "outputs": [],
   "source": [
    "# 3번\n",
    "Origin = input()\n",
    "count = 0 \n",
    "N = int(Origin)\n",
    "while True:\n",
    "    count+=1\n",
    "    left, right = N//10, N%10\n",
    "    new = right*10 + (left+right)%10\n",
    "\n",
    "    if new == int(Origin):\n",
    "        print(count)\n",
    "        break\n",
    "    else:\n",
    "        N = new\n",
    "        "
   ]
  }
 ],
 "metadata": {
  "kernelspec": {
   "display_name": "Python 3",
   "language": "python",
   "name": "python3"
  },
  "language_info": {
   "codemirror_mode": {
    "name": "ipython",
    "version": 3
   },
   "file_extension": ".py",
   "mimetype": "text/x-python",
   "name": "python",
   "nbconvert_exporter": "python",
   "pygments_lexer": "ipython3",
   "version": "3.7.3"
  }
 },
 "nbformat": 4,
 "nbformat_minor": 2
}
